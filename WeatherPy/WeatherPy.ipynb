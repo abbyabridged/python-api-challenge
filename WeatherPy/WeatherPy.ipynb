{
 "metadata": {
  "language_info": {
   "codemirror_mode": {
    "name": "ipython",
    "version": 3
   },
   "file_extension": ".py",
   "mimetype": "text/x-python",
   "name": "python",
   "nbconvert_exporter": "python",
   "pygments_lexer": "ipython3",
   "version": "3.7.6-final"
  },
  "orig_nbformat": 2,
  "kernelspec": {
   "name": "python3",
   "display_name": "Python 3"
  }
 },
 "nbformat": 4,
 "nbformat_minor": 2,
 "cells": [
  {
   "cell_type": "code",
   "execution_count": 1,
   "metadata": {},
   "outputs": [],
   "source": [
    "# Import dependencies\n",
    "\n",
    "import numpy as np\n",
    "import pandas as pd\n",
    "import requests\n",
    "import json\n",
    "import time\n",
    "\n",
    "from scipy.stats import linregress\n",
    "from matplotlib import pyplot as plt\n",
    "\n",
    "from citipy import citipy"
   ]
  },
  {
   "cell_type": "code",
   "execution_count": 2,
   "metadata": {},
   "outputs": [],
   "source": [
    "# Import OpenWeather API key\n",
    "\n",
    "from config import api_key"
   ]
  },
  {
   "cell_type": "code",
   "execution_count": 36,
   "metadata": {},
   "outputs": [],
   "source": [
    "# Generate a random list of cities with citipy\n",
    "\n",
    "# Generate a random list of coordinates\n",
    "# \"The valid range of latitude in degrees is -90 and +90 for the southern and northern hemisphere respectively. Longitude is in the range -180 and +180\" https://stackoverflow.com/questions/15965166/\n",
    "\n",
    "latitude = []\n",
    "longitude = []\n",
    "\n",
    "for lat in np.random.randint(-90,90,500):\n",
    "    latitude.append(lat)\n",
    "\n",
    "for long in np.random.randint(-180,180,500):\n",
    "    longitude.append(long)\n",
    "\n",
    "lat_long = []\n",
    "for i in range(len(latitude)):\n",
    "    lat_long.append((latitude[i], longitude[i]))\n",
    "\n",
    "# lat_long = tuple(zip(latitude,longitude))\n",
    "\n",
    "# lat_long\n",
    "\n",
    "# Locate nearest cities to coordinates\n",
    "cities = []\n",
    "\n",
    "for lat,long in lat_long:\n",
    "    city = citipy.nearest_city(lat,long)\n",
    "    city_name = city.city_name\n",
    "    cities.append(city_name)\n",
    "\n",
    "# cities"
   ]
  },
  {
   "cell_type": "code",
   "execution_count": 37,
   "metadata": {},
   "outputs": [
    {
     "output_type": "stream",
     "name": "stdout",
     "text": [
      "Tesing OpenWeatherMap API\n------------Albany------------\nTemperature: 290.43\nHumidity: 35\nWind speed: 2.51\nCloudiness: 0\n"
     ]
    }
   ],
   "source": [
    "# Testing data retrieval\n",
    "\n",
    "base_url = \"http://api.openweathermap.org/data/2.5/weather?\".format(target_city,api_key)\n",
    "target_url = base_url + \"q=\" + city_name + \"&appid=\" + api_key\n",
    "\n",
    "city_name = \"albany\"\n",
    "\n",
    "print(\"Tesing OpenWeatherMap API\")\n",
    "\n",
    "response = requests.get(target_url)\n",
    "\n",
    "# print the response URL, avoid doing for public GitHub repos in order to avoid exposing key\n",
    "# print(response.url)\n",
    "\n",
    "data_test = response.json()\n",
    "# print(json.dumps(data_test, indent=4, sort_keys=True))\n",
    "\n",
    "main = data_test[\"main\"]\n",
    "temperature = main[\"temp\"] # Fetch temperature\n",
    "humidity = main[\"humidity\"] # Fetch humidity\n",
    "\n",
    "wind = data_test[\"wind\"] \n",
    "wind_speed = wind[\"speed\"] # Fetch wind speed\n",
    "\n",
    "clouds = data_test[\"clouds\"]\n",
    "cloudiness = clouds[\"all\"] # Fetch cloudiness\n",
    "\n",
    "\n",
    "print(f\"{city_name.title():-^30}\")\n",
    "print(f\"Temperature: {temperature}\")\n",
    "print(f\"Humidity: {humidity}\")\n",
    "print(f\"Wind speed: {wind_speed}\")\n",
    "print(f\"Cloudiness: {cloudiness}\")\n"
   ]
  },
  {
   "cell_type": "code",
   "execution_count": 60,
   "metadata": {},
   "outputs": [
    {
     "output_type": "stream",
     "name": "stdout",
     "text": [
      "------------Albany------------\nTemperature: 274.3\nHumidity: 67\nWind speed: 1.79\nCloudiness: 96\n"
     ]
    }
   ],
   "source": [
    "# Testing data retrieval method 2 (using parameter dictionary)\n",
    "\n",
    "base_url = \"http://api.openweathermap.org/data/2.5/weather\"\n",
    "params = {\n",
    "    \"q\": \"albany\",\n",
    "    \"appid\": api_key\n",
    "}\n",
    "response = requests.get(base_url, params=params)\n",
    "\n",
    "# print the response URL, avoid doing for public GitHub repos in order to avoid exposing key\n",
    "# print(response.url)\n",
    "\n",
    "data_test = response.json()\n",
    "\n",
    "main = data_test[\"main\"]\n",
    "temperature = main[\"temp\"] # Fetch temperature\n",
    "humidity = main[\"humidity\"] # Fetch humidity\n",
    "\n",
    "wind = data_test[\"wind\"] \n",
    "wind_speed = wind[\"speed\"] # Fetch wind speed\n",
    "\n",
    "clouds = data_test[\"clouds\"]\n",
    "cloudiness = clouds[\"all\"] # Fetch cloudiness\n",
    "\n",
    "\n",
    "print(f\"{city_name.title():-^30}\")\n",
    "print(f\"Temperature: {temperature}\")\n",
    "print(f\"Humidity: {humidity}\")\n",
    "print(f\"Wind speed: {wind_speed}\")\n",
    "print(f\"Cloudiness: {cloudiness}\")\n"
   ]
  },
  {
   "cell_type": "code",
   "execution_count": 52,
   "metadata": {},
   "outputs": [
    {
     "output_type": "execute_result",
     "data": {
      "text/plain": [
       "                city  latitude  longitude temperature humidity wind speed  \\\n",
       "0            rikitea       -30       -124                                   \n",
       "1           victoria        -2         63                                   \n",
       "2              birao        10         23                                   \n",
       "3             atuona       -15       -136                                   \n",
       "4    arraial do cabo       -30        -38                                   \n",
       "..               ...       ...        ...         ...      ...        ...   \n",
       "495   saint-philippe       -52         65                                   \n",
       "496  verkhnevilyuysk        62        120                                   \n",
       "497            kapaa        36       -165                                   \n",
       "498           broome       -24        124                                   \n",
       "499            katra        33         75                                   \n",
       "\n",
       "    cloudiness  \n",
       "0               \n",
       "1               \n",
       "2               \n",
       "3               \n",
       "4               \n",
       "..         ...  \n",
       "495             \n",
       "496             \n",
       "497             \n",
       "498             \n",
       "499             \n",
       "\n",
       "[500 rows x 7 columns]"
      ],
      "text/html": "<div>\n<style scoped>\n    .dataframe tbody tr th:only-of-type {\n        vertical-align: middle;\n    }\n\n    .dataframe tbody tr th {\n        vertical-align: top;\n    }\n\n    .dataframe thead th {\n        text-align: right;\n    }\n</style>\n<table border=\"1\" class=\"dataframe\">\n  <thead>\n    <tr style=\"text-align: right;\">\n      <th></th>\n      <th>city</th>\n      <th>latitude</th>\n      <th>longitude</th>\n      <th>temperature</th>\n      <th>humidity</th>\n      <th>wind speed</th>\n      <th>cloudiness</th>\n    </tr>\n  </thead>\n  <tbody>\n    <tr>\n      <th>0</th>\n      <td>rikitea</td>\n      <td>-30</td>\n      <td>-124</td>\n      <td></td>\n      <td></td>\n      <td></td>\n      <td></td>\n    </tr>\n    <tr>\n      <th>1</th>\n      <td>victoria</td>\n      <td>-2</td>\n      <td>63</td>\n      <td></td>\n      <td></td>\n      <td></td>\n      <td></td>\n    </tr>\n    <tr>\n      <th>2</th>\n      <td>birao</td>\n      <td>10</td>\n      <td>23</td>\n      <td></td>\n      <td></td>\n      <td></td>\n      <td></td>\n    </tr>\n    <tr>\n      <th>3</th>\n      <td>atuona</td>\n      <td>-15</td>\n      <td>-136</td>\n      <td></td>\n      <td></td>\n      <td></td>\n      <td></td>\n    </tr>\n    <tr>\n      <th>4</th>\n      <td>arraial do cabo</td>\n      <td>-30</td>\n      <td>-38</td>\n      <td></td>\n      <td></td>\n      <td></td>\n      <td></td>\n    </tr>\n    <tr>\n      <th>...</th>\n      <td>...</td>\n      <td>...</td>\n      <td>...</td>\n      <td>...</td>\n      <td>...</td>\n      <td>...</td>\n      <td>...</td>\n    </tr>\n    <tr>\n      <th>495</th>\n      <td>saint-philippe</td>\n      <td>-52</td>\n      <td>65</td>\n      <td></td>\n      <td></td>\n      <td></td>\n      <td></td>\n    </tr>\n    <tr>\n      <th>496</th>\n      <td>verkhnevilyuysk</td>\n      <td>62</td>\n      <td>120</td>\n      <td></td>\n      <td></td>\n      <td></td>\n      <td></td>\n    </tr>\n    <tr>\n      <th>497</th>\n      <td>kapaa</td>\n      <td>36</td>\n      <td>-165</td>\n      <td></td>\n      <td></td>\n      <td></td>\n      <td></td>\n    </tr>\n    <tr>\n      <th>498</th>\n      <td>broome</td>\n      <td>-24</td>\n      <td>124</td>\n      <td></td>\n      <td></td>\n      <td></td>\n      <td></td>\n    </tr>\n    <tr>\n      <th>499</th>\n      <td>katra</td>\n      <td>33</td>\n      <td>75</td>\n      <td></td>\n      <td></td>\n      <td></td>\n      <td></td>\n    </tr>\n  </tbody>\n</table>\n<p>500 rows × 7 columns</p>\n</div>"
     },
     "metadata": {},
     "execution_count": 52
    }
   ],
   "source": [
    "# Set up a DataFrame to hold city, lat, long, temperature, humidity, wind speed and cloudiness \n",
    "weather_df = pd.DataFrame(cities, columns=[\"city\"])\n",
    "weather_df.head()\n",
    "# weather_df.info()\n",
    "\n",
    "\n",
    "# Set up additional columns to hold information\n",
    "weather_df['latitude'] = latitude\n",
    "weather_df['longitude'] = longitude\n",
    "weather_df['temperature'] = \"\"\n",
    "weather_df['humidity'] = \"\"\n",
    "weather_df['wind speed'] = \"\"\n",
    "weather_df['cloudiness'] = \"\"\n",
    "\n",
    "weather_df"
   ]
  },
  {
   "cell_type": "code",
   "execution_count": null,
   "metadata": {},
   "outputs": [],
   "source": [
    "# Data retrieval\n",
    "\n"
   ]
  }
 ]
}