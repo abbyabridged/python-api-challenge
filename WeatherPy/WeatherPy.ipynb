{
 "metadata": {
  "language_info": {
   "codemirror_mode": {
    "name": "ipython",
    "version": 3
   },
   "file_extension": ".py",
   "mimetype": "text/x-python",
   "name": "python",
   "nbconvert_exporter": "python",
   "pygments_lexer": "ipython3",
   "version": "3.7.6-final"
  },
  "orig_nbformat": 2,
  "kernelspec": {
   "name": "python3",
   "display_name": "Python 3"
  }
 },
 "nbformat": 4,
 "nbformat_minor": 2,
 "cells": [
  {
   "cell_type": "code",
   "execution_count": 4,
   "metadata": {},
   "outputs": [],
   "source": [
    "# Import dependencies\n",
    "\n",
    "import numpy as np\n",
    "import pandas as pd\n",
    "import requests\n",
    "import json\n",
    "import time\n",
    "\n",
    "from scipy.stats import linregress\n",
    "from matplotlib import pyplot as plt\n",
    "\n",
    "from citipy import citipy"
   ]
  },
  {
   "cell_type": "code",
   "execution_count": 5,
   "metadata": {},
   "outputs": [],
   "source": [
    "# Import OpenWeather API key\n",
    "\n",
    "from config import api_key"
   ]
  },
  {
   "cell_type": "code",
   "execution_count": 30,
   "metadata": {},
   "outputs": [],
   "source": [
    "# Generate a random list of cities with citipy\n",
    "\n",
    "# Generate a random list of coordinates\n",
    "# \"The valid range of latitude in degrees is -90 and +90 for the southern and northern hemisphere respectively. Longitude is in the range -180 and +180\" https://stackoverflow.com/questions/15965166/\n",
    "\n",
    "latitude = []\n",
    "longitude = []\n",
    "\n",
    "for lat in np.random.randint(-90,90,500):\n",
    "    latitude.append(lat)\n",
    "\n",
    "for long in np.random.randint(-180,180,500):\n",
    "    longitude.append(long)\n",
    "\n",
    "# lat_long = []\n",
    "# for i in range(len(latitude)):\n",
    "#     lat_long.append((latitude[i], longitude[i]))\n",
    "\n",
    "lat_long = tuple(zip(latitude,longitude))\n",
    "\n",
    "# lat_long\n",
    "\n",
    "# Locate nearest cities to coordinates\n",
    "cities = []\n",
    "\n",
    "for lat,long in lat_long:\n",
    "    city = citipy.nearest_city(lat,long)\n",
    "    \n",
    "    city_name = city.city_name\n",
    "    \n",
    "    cities.append(city_name)\n",
    "\n",
    "# cities"
   ]
  },
  {
   "cell_type": "code",
   "execution_count": null,
   "metadata": {},
   "outputs": [],
   "source": []
  }
 ]
}