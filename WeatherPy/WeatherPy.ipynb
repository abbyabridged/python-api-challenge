{
 "metadata": {
  "language_info": {
   "codemirror_mode": {
    "name": "ipython",
    "version": 3
   },
   "file_extension": ".py",
   "mimetype": "text/x-python",
   "name": "python",
   "nbconvert_exporter": "python",
   "pygments_lexer": "ipython3",
   "version": "3.7.6-final"
  },
  "orig_nbformat": 2,
  "kernelspec": {
   "name": "python3",
   "display_name": "Python 3"
  }
 },
 "nbformat": 4,
 "nbformat_minor": 2,
 "cells": [
  {
   "cell_type": "code",
   "execution_count": null,
   "metadata": {},
   "outputs": [],
   "source": [
    "# Import dependencies\n",
    "\n",
    "import numpy as np\n",
    "import pandas as pd\n",
    "import requests\n",
    "import json\n",
    "import time\n",
    "\n",
    "from scipy.stats import linregress\n",
    "from matplotlib import pyplot as plt\n",
    "\n",
    "from citipy import citipy"
   ]
  },
  {
   "cell_type": "code",
   "execution_count": null,
   "metadata": {},
   "outputs": [],
   "source": [
    "# Import OpenWeather API key\n",
    "\n",
    "from config import api_key"
   ]
  },
  {
   "cell_type": "code",
   "execution_count": null,
   "metadata": {},
   "outputs": [],
   "source": [
    "# Generate a random list of cities with citipy\n",
    "\n",
    "# Generate a random list of coordinates\n",
    "# \"The valid range of latitude in degrees is -90 and +90 for the southern and northern hemisphere respectively. Longitude is in the range -180 and +180\" https://stackoverflow.com/questions/15965166/\n",
    "\n",
    "latitude = []\n",
    "longitude = []\n",
    "\n",
    "for lat in np.random.randint(-90,90,500):\n",
    "    latitude.append(lat)\n",
    "\n",
    "for long in np.random.randint(-180,180,500):\n",
    "    longitude.append(long)\n",
    "\n",
    "lat_long = []\n",
    "for i in range(len(latitude)):\n",
    "    lat_long.append((latitude[i], longitude[i]))\n",
    "\n",
    "# lat_long = tuple(zip(latitude,longitude))\n",
    "\n",
    "# lat_long\n",
    "\n",
    "# Locate nearest cities to coordinates\n",
    "cities = []\n",
    "\n",
    "for lat,long in lat_long:\n",
    "    city = citipy.nearest_city(lat,long)\n",
    "    city_name = city.city_name\n",
    "    cities.append(city_name)\n",
    "\n",
    "# cities"
   ]
  },
  {
   "cell_type": "code",
   "execution_count": null,
   "metadata": {},
   "outputs": [],
   "source": [
    "# Testing data retrieval\n",
    "\n",
    "base_url = \"http://api.openweathermap.org/data/2.5/weather?\".format(city_name,api_key)\n",
    "target_url = base_url + \"q=\" + city_name + \"&appid=\" + api_key\n",
    "\n",
    "city_name = \"albany\"\n",
    "\n",
    "print(\"Tesing OpenWeatherMap API\")\n",
    "\n",
    "response = requests.get(target_url)\n",
    "\n",
    "# print the response URL, avoid doing for public GitHub repos in order to avoid exposing key\n",
    "# print(response.url)\n",
    "\n",
    "data_test = response.json()\n",
    "# print(json.dumps(data_test, indent=4, sort_keys=True))\n",
    "\n",
    "main = data_test[\"main\"]\n",
    "temperature = main[\"temp\"] # Fetch temperature\n",
    "humidity = main[\"humidity\"] # Fetch humidity\n",
    "\n",
    "wind = data_test[\"wind\"] \n",
    "wind_speed = wind[\"speed\"] # Fetch wind speed\n",
    "\n",
    "clouds = data_test[\"clouds\"]\n",
    "cloudiness = clouds[\"all\"] # Fetch cloudiness\n",
    "\n",
    "\n",
    "print(f\"{city_name.title():-^30}\")\n",
    "print(f\"Temperature: {temperature}\")\n",
    "print(f\"Humidity: {humidity}\")\n",
    "print(f\"Wind speed: {wind_speed}\")\n",
    "print(f\"Cloudiness: {cloudiness}\")\n"
   ]
  },
  {
   "cell_type": "code",
   "execution_count": null,
   "metadata": {},
   "outputs": [],
   "source": [
    "# Testing data retrieval method 2 (using parameter dictionary)\n",
    "\n",
    "base_url = \"http://api.openweathermap.org/data/2.5/weather\"\n",
    "params = {\n",
    "    \"q\": \"albany\",\n",
    "    \"appid\": api_key\n",
    "}\n",
    "response = requests.get(base_url, params=params)\n",
    "\n",
    "# print the response URL, avoid doing for public GitHub repos in order to avoid exposing key\n",
    "# print(response.url)\n",
    "\n",
    "data_test = response.json()\n",
    "\n",
    "temperature = data_test[\"main\"][\"temp\"] # Fetch temperature\n",
    "humidity = data_test[\"main\"][\"humidity\"] # Fetch humidity\n",
    "\n",
    "# wind = data_test[\"wind\"] \n",
    "# wind_speed = wind[\"speed\"] # Fetch wind speed\n",
    "wind_speed = data_test[\"wind\"][\"speed\"] # Fetch wind speed\n",
    "\n",
    "\n",
    "# clouds = data_test[\"clouds\"]\n",
    "# cloudiness = clouds[\"all\"] # Fetch cloudiness\n",
    "cloudiness = data_test[\"clouds\"][\"all\"] # Fetch cloudiness\n",
    "\n",
    "\n",
    "print(f\"{city_name.title():-^30}\")\n",
    "print(f\"Temperature: {temperature}\")\n",
    "print(f\"Humidity: {humidity}\")\n",
    "print(f\"Wind speed: {wind_speed}\")\n",
    "print(f\"Cloudiness: {cloudiness}\")\n"
   ]
  },
  {
   "cell_type": "code",
   "execution_count": null,
   "metadata": {},
   "outputs": [],
   "source": [
    "# Testing data retrieval method 3 (adding parameter for metric units of measurement)\n",
    "\n",
    "base_url = \"http://api.openweathermap.org/data/2.5/weather\"\n",
    "params = {\n",
    "    \"q\": \"albany\",\n",
    "    \"appid\": api_key,\n",
    "    \"units\": \"metric\"\n",
    "}\n",
    "response = requests.get(base_url, params=params)\n",
    "\n",
    "# print the response URL, avoid doing for public GitHub repos in order to avoid exposing key\n",
    "# print(response.url)\n",
    "\n",
    "data_test = response.json()\n",
    "\n",
    "temperature = data_test[\"main\"][\"temp\"] # Fetch temperature\n",
    "humidity = data_test[\"main\"][\"humidity\"] # Fetch humidity\n",
    "\n",
    "# wind = data_test[\"wind\"] \n",
    "# wind_speed = wind[\"speed\"] # Fetch wind speed\n",
    "wind_speed = data_test[\"wind\"][\"speed\"] # Fetch wind speed\n",
    "\n",
    "\n",
    "# clouds = data_test[\"clouds\"]\n",
    "# cloudiness = clouds[\"all\"] # Fetch cloudiness\n",
    "cloudiness = data_test[\"clouds\"][\"all\"] # Fetch cloudiness\n",
    "\n",
    "\n",
    "print(f\"{city_name.title():-^30}\")\n",
    "print(f\"Temperature: {temperature}\")\n",
    "print(f\"Humidity: {humidity}\")\n",
    "print(f\"Wind speed: {wind_speed}\")\n",
    "print(f\"Cloudiness: {cloudiness}\")\n"
   ]
  },
  {
   "cell_type": "code",
   "execution_count": null,
   "metadata": {},
   "outputs": [],
   "source": [
    "# Set up a DataFrame to hold city, lat, long, temperature, humidity, wind speed and cloudiness \n",
    "weather_df = pd.DataFrame(cities, columns=[\"city\"])\n",
    "weather_df.head()\n",
    "# weather_df.info()\n",
    "\n",
    "\n",
    "# Set up additional columns to hold information\n",
    "weather_df['latitude'] = latitude\n",
    "weather_df['longitude'] = longitude\n",
    "weather_df['temperature'] = \"\"\n",
    "weather_df['humidity'] = \"\"\n",
    "weather_df['wind speed'] = \"\"\n",
    "weather_df['cloudiness'] = \"\"\n",
    "\n",
    "weather_df"
   ]
  },
  {
   "cell_type": "code",
   "execution_count": null,
   "metadata": {
    "tags": [
     "outputPrepend"
    ]
   },
   "outputs": [],
   "source": [
    "# Data retrieval\n",
    "\n",
    "base_url = \"http://api.openweathermap.org/data/2.5/weather\"\n",
    "params = {\n",
    "    \"q\": \"albany\",\n",
    "    \"appid\": api_key,\n",
    "    \"units\": \"metric\"\n",
    "}\n",
    "\n",
    "# Use iterrows to iterate through pandas dataframe\n",
    "for index, row in weather_df.iterrows():\n",
    "# for index, row in weather_df.head(n=5).iterrows(): # brief test\n",
    "\n",
    "    # Get city from weather_df\n",
    "    city = row['city']\n",
    "\n",
    "    # Add query to params dict\n",
    "    params['q'] = city\n",
    "\n",
    "    # Assemble url and make API request\n",
    "    print(f\"Retrieving Results for Index {index}: {city}\")\n",
    "\n",
    "    # Extract results\n",
    "    response = requests.get(base_url, params=params).json()\n",
    "    \n",
    "    try:\n",
    "        weather_df.loc[index, \"temperature\"] = response[\"main\"][\"temp\"]\n",
    "        weather_df.loc[index, \"humidity\"] = response[\"main\"][\"humidity\"] \n",
    "        weather_df.loc[index, \"wind speed\"] = response[\"wind\"][\"speed\"]\n",
    "        weather_df.loc[index, \"cloudiness\"] = response[\"clouds\"][\"all\"]\n",
    "        \n",
    "    except (KeyError, IndexError):\n",
    "        print(\"Missing field/result... skipping.\")\n",
    "        \n",
    "    print(\"------------\")\n"
   ]
  },
  {
   "cell_type": "code",
   "execution_count": null,
   "metadata": {},
   "outputs": [],
   "source": [
    "# Check data in DataFrame\n",
    "# weather_df"
   ]
  },
  {
   "cell_type": "code",
   "execution_count": null,
   "metadata": {},
   "outputs": [],
   "source": [
    "# Save data to CSV\n",
    "# weather_df.to_csv(\"weather.csv\")"
   ]
  },
  {
   "cell_type": "code",
   "execution_count": null,
   "metadata": {},
   "outputs": [],
   "source": [
    "# Read in data again\n",
    "weather_df = pd.read_csv(\n",
    "    \"weather.csv\", dtype=\"object\", encoding=\"utf-8\")\n",
    "weather_df.head()"
   ]
  },
  {
   "cell_type": "code",
   "execution_count": null,
   "metadata": {},
   "outputs": [],
   "source": [
    "# Convert temperature, humidity, latitude to numeric values\n",
    "weather_df['temperature'] = pd.to_numeric(weather_df['temperature'], errors='coerce')\n",
    "weather_df['humidity'] = pd.to_numeric(weather_df['humidity'], errors='coerce')\n",
    "weather_df['latitude'] = pd.to_numeric(weather_df['latitude'], errors='coerce')\n"
   ]
  },
  {
   "cell_type": "code",
   "execution_count": null,
   "metadata": {},
   "outputs": [],
   "source": [
    "# Scatter plot for Temperature (F) vs. Latitude\n",
    "x_values = weather_df['temperature'].astype('float')\n",
    "y_values = weather_df['latitude'].astype('float')\n",
    "plt.scatter(x_values,y_values)\n",
    "plt.xlabel('temperature')\n",
    "plt.ylabel('latitude')\n",
    "plt.title('Temperature (F) vs. Latitude')\n",
    "plt.savefig('temp v latitude.png')\n",
    "plt.show()"
   ]
  },
  {
   "source": [
    "The plot shows temperature against latitude for each city in the dataset. At the time of data retrieval, temperatures tended to be higher in the southern hemisphere and lower in the nothern hemisphere."
   ],
   "cell_type": "markdown",
   "metadata": {}
  },
  {
   "cell_type": "code",
   "execution_count": null,
   "metadata": {},
   "outputs": [],
   "source": [
    "# Scatter plot for Humidity (%) vs. Latitude\n",
    "x_values = weather_df['humidity'].astype('float')\n",
    "y_values = weather_df['latitude'].astype('float')\n",
    "plt.scatter(x_values,y_values)\n",
    "plt.xlabel('humidity')\n",
    "plt.ylabel('latitude')\n",
    "plt.title('Humidity vs. Latitude')\n",
    "plt.savefig('humidity v latitude.png')\n",
    "plt.show()"
   ]
  },
  {
   "source": [
    "The plot shows humidity against latitude for each city in the dataset. Where lower levels of humidity are recorded, they tend to be closer to the equator or in the southern hemisphere."
   ],
   "cell_type": "markdown",
   "metadata": {}
  },
  {
   "cell_type": "code",
   "execution_count": null,
   "metadata": {},
   "outputs": [],
   "source": [
    "# Scatter plot for cloudiness (%) vs. Latitude\n",
    "x_values = weather_df['cloudiness'].astype('float')\n",
    "y_values = weather_df['latitude'].astype('float')\n",
    "plt.scatter(x_values,y_values)\n",
    "plt.xlabel('cloudiness')\n",
    "plt.ylabel('latitude')\n",
    "plt.title('Cloudiness (%) vs. Latitude')\n",
    "plt.savefig('cloudiness v latitude.png')\n",
    "plt.show()"
   ]
  },
  {
   "source": [
    "The plot shows cloudiness against latitude for each of the cities in the dataset. The level of cloudiness for the cities in the dataset are relatively evenly spread across the hemispheres."
   ],
   "cell_type": "markdown",
   "metadata": {}
  },
  {
   "cell_type": "code",
   "execution_count": null,
   "metadata": {},
   "outputs": [],
   "source": [
    "# Scatter plot for Wind Speed (mph) vs. Latitude\n",
    "x_values = weather_df['wind speed'].astype('float')\n",
    "y_values = weather_df['latitude'].astype('float')\n",
    "plt.scatter(x_values,y_values)\n",
    "plt.xlabel('wind speed')\n",
    "plt.ylabel('latitude')\n",
    "plt.title('Wind Speed (mph) vs. Latitude')\n",
    "plt.savefig('wind speed v latitude.png')\n",
    "plt.show()"
   ]
  },
  {
   "source": [
    "The plot shows wind speed against latitude for each of the cities in the dataset. The windspeed for the cities in the dataset are relatively evenly spread across the hemispheres, although extreme wind speeds are experienced furthest from the equator (i.e. at the north and south poles)."
   ],
   "cell_type": "markdown",
   "metadata": {}
  },
  {
   "cell_type": "code",
   "execution_count": null,
   "metadata": {},
   "outputs": [],
   "source": [
    "# Remove empty values from weather_df, to enable plotting of linear regression line\n",
    "weather_clean_df = weather_df.dropna()\n",
    "# weather_clean_df"
   ]
  },
  {
   "cell_type": "code",
   "execution_count": null,
   "metadata": {},
   "outputs": [],
   "source": [
    "# Create separate weather_dfs for northern and southern hemispheres\n",
    "weather_df_north = weather_clean_df.loc[(weather_clean_df['latitude'] > 0)]\n",
    "weather_df_south = weather_clean_df.loc[(weather_clean_df['latitude'] < 0)]"
   ]
  },
  {
   "cell_type": "code",
   "execution_count": null,
   "metadata": {},
   "outputs": [],
   "source": [
    "# Test creation of first linear regression plot\n",
    "\n",
    "# # Scatter plot for Northern Hemisphere - Temperature (F) vs. Latitude\n",
    "# x_values = weather_df_north['temperature'].astype('float')\n",
    "# y_values = weather_df_north['latitude'].astype('float')\n",
    "\n",
    "# # Run linear regression\n",
    "# (slope, intercept, rvalue, pvalue, stderr) = linregress(x_values, y_values)\n",
    "# regress_values = x_values * slope + intercept\n",
    "# line_eq = \"y = \" + str(round(slope,2)) + \"x + \" + str(round(intercept,2))\n",
    "\n",
    "# #Plot scatter\n",
    "# plt.scatter(x_values,y_values)\n",
    "\n",
    "# # Plot regression line\n",
    "# plt.plot(x_values,regress_values,\"r-\")\n",
    "# plt.annotate(line_eq,(6,10),fontsize=15,color=\"red\")\n",
    "\n",
    "# # Label plot\n",
    "# plt.xlabel('temperature')\n",
    "# plt.ylabel('latitude')\n",
    "# plt.title('Northern Hemisphere - Temperature (F) vs. Latitude')\n",
    "\n",
    "# # Save plot\n",
    "# plt.savefig('north temp v latitude.png')\n",
    "\n",
    "# # Show plot\n",
    "# # plt.show()"
   ]
  },
  {
   "cell_type": "code",
   "execution_count": null,
   "metadata": {},
   "outputs": [],
   "source": [
    "# Create a function to create multiple linear regression plots\n",
    "def linregress_function(x_values,y_values):\n",
    "    (slope, intercept, rvalue, pvalue, stderr) = linregress(x_values, y_values)\n",
    "    regress_values = x_values * slope + intercept\n",
    "    line_eq = \"y = \" + str(round(slope,2)) + \"x + \" + str(round(intercept,2))\n",
    "    plt.scatter(x_values,y_values)\n",
    "    plt.plot(x_values,regress_values,\"r-\")\n",
    "    plt.annotate(line_eq,(x_values.median(),y_values.median()),fontsize=15,color=\"red\")\n",
    "    # plt.xlabel('temperature')\n",
    "    plt.ylabel('Latitude')\n",
    "    plt.show()"
   ]
  },
  {
   "cell_type": "code",
   "execution_count": null,
   "metadata": {},
   "outputs": [],
   "source": [
    "# Linear regression plot for Northern Hemisphere - Temperature (F) vs. Latitude\n",
    "x_values = weather_df_north['temperature'].astype('float')\n",
    "y_values = weather_df_north['latitude'].astype('float')\n",
    "plt.xlabel('Temperature (F)')\n",
    "linregress_function(x_values,y_values)\n",
    "plt.savefig('north temp v latitude.png')"
   ]
  },
  {
   "cell_type": "code",
   "execution_count": null,
   "metadata": {},
   "outputs": [],
   "source": [
    "# Linear regression plot for Southern Hemisphere - Temperature (F) vs. Latitude\n",
    "x_values = weather_df_south['temperature'].astype('float')\n",
    "y_values = weather_df_south['latitude'].astype('float')\n",
    "plt.xlabel('Temperature (F)')\n",
    "linregress_function(x_values,y_values)\n",
    "plt.savefig('south temp v latitude.png')"
   ]
  },
  {
   "source": [
    "The linear regression plots show a strong correlation between temperature and latitude. Temperatures are higher closer to the equator (i.e. latitudes closer to zero), lower further from the equator."
   ],
   "cell_type": "markdown",
   "metadata": {}
  },
  {
   "cell_type": "code",
   "execution_count": null,
   "metadata": {},
   "outputs": [],
   "source": [
    "# Linear regression plot for Northern Hemisphere - Humidity (%) vs. Latitude\n",
    "x_values = weather_df_north['humidity'].astype('float')\n",
    "y_values = weather_df_north['latitude'].astype('float')\n",
    "plt.xlabel('Humidity (%)')\n",
    "linregress_function(x_values,y_values)\n",
    "plt.savefig('north humidity v latitude.png')"
   ]
  },
  {
   "cell_type": "code",
   "execution_count": null,
   "metadata": {},
   "outputs": [],
   "source": [
    "# Linear regression plot for Southern Hemisphere - Humidity (%) vs. Latitude\n",
    "x_values = weather_df_south['humidity'].astype('float')\n",
    "y_values = weather_df_south['latitude'].astype('float')\n",
    "plt.xlabel('Humidity (%)')\n",
    "linregress_function(x_values,y_values)\n",
    "plt.savefig('south humidity v latitude.png')"
   ]
  },
  {
   "source": [
    "There is a very weak correlation between humidity and latitude. The range of humidity levels increases closer to the equator."
   ],
   "cell_type": "markdown",
   "metadata": {}
  },
  {
   "cell_type": "code",
   "execution_count": null,
   "metadata": {},
   "outputs": [],
   "source": [
    "# Linear regression plot for Northern Hemisphere - Cloudiness (%) vs. Latitude\n",
    "x_values = weather_df_north['cloudiness'].astype('float')\n",
    "y_values = weather_df_north['latitude'].astype('float')\n",
    "plt.xlabel('Cloudiness (%)')\n",
    "linregress_function(x_values,y_values)\n",
    "plt.savefig('north cloudiness v latitude.png')"
   ]
  },
  {
   "cell_type": "code",
   "execution_count": null,
   "metadata": {},
   "outputs": [],
   "source": [
    "# Linear regression plot for Southern Hemisphere - Cloudiness (%) vs. Latitude\n",
    "x_values = weather_df_south['cloudiness'].astype('float')\n",
    "y_values = weather_df_south['latitude'].astype('float')\n",
    "plt.xlabel('Cloudiness (%)')\n",
    "linregress_function(x_values,y_values)\n",
    "plt.savefig('south cloudiness v latitude.png')"
   ]
  },
  {
   "source": [
    "The flat linear regression lines indicate almost no relationship between cloudiness and latitude. "
   ],
   "cell_type": "markdown",
   "metadata": {}
  },
  {
   "cell_type": "code",
   "execution_count": null,
   "metadata": {},
   "outputs": [],
   "source": [
    "# Linear regression plot for Northern Hemisphere - Wind Speed (mph) vs. Latitude\n",
    "x_values = weather_df_north['wind speed'].astype('float')\n",
    "y_values = weather_df_north['latitude'].astype('float')\n",
    "plt.xlabel('Wind speed (mph)')\n",
    "linregress_function(x_values,y_values)\n",
    "plt.savefig('north wind speed v latitude.png')"
   ]
  },
  {
   "cell_type": "code",
   "execution_count": null,
   "metadata": {},
   "outputs": [],
   "source": []
  },
  {
   "cell_type": "code",
   "execution_count": null,
   "metadata": {},
   "outputs": [],
   "source": [
    "# Linear regression plot for Southern Hemisphere - Wind Speed (mph) vs. Latitude\n",
    "x_values = weather_df_south['wind speed'].astype('float')\n",
    "y_values = weather_df_south['latitude'].astype('float')\n",
    "plt.xlabel('Wind speed (mph)')\n",
    "linregress_function(x_values,y_values)\n",
    "plt.savefig('south wind speed v latitude.png')"
   ]
  },
  {
   "source": [
    "The linear regression plot indicates a weak correlation between wind speed and latitudes closer to the north and south poles."
   ],
   "cell_type": "markdown",
   "metadata": {}
  }
 ]
}