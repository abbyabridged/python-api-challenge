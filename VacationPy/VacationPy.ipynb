{
 "metadata": {
  "language_info": {
   "codemirror_mode": {
    "name": "ipython",
    "version": 3
   },
   "file_extension": ".py",
   "mimetype": "text/x-python",
   "name": "python",
   "nbconvert_exporter": "python",
   "pygments_lexer": "ipython3",
   "version": "3.7.6-final"
  },
  "orig_nbformat": 2,
  "kernelspec": {
   "name": "python3",
   "display_name": "Python 3"
  }
 },
 "nbformat": 4,
 "nbformat_minor": 2,
 "cells": [
  {
   "cell_type": "code",
   "execution_count": 89,
   "metadata": {},
   "outputs": [],
   "source": [
    "# Import dependencies\n",
    "\n",
    "import gmaps\n",
    "import pandas as pd\n",
    "import numpy as np\n",
    "import requests\n",
    "import json\n",
    "\n",
    "# Google developer API key\n",
    "from config import gkey\n",
    "\n",
    "# Configure gmaps\n",
    "gmaps.configure(api_key=gkey)\n",
    "\n",
    "# Import OpenWeather API key\n",
    "from config import api_key"
   ]
  },
  {
   "cell_type": "code",
   "execution_count": 42,
   "metadata": {},
   "outputs": [
    {
     "output_type": "execute_result",
     "data": {
      "text/plain": [
       "               city  latitude  longitude  temperature  humidity  wind speed  \\\n",
       "457  saint-philippe    -21.36      55.77        22.45      54.0        7.20   \n",
       "458          hobart    -42.88     147.33        12.84      82.0        1.86   \n",
       "459        zhaotong     27.32     103.72        16.75      52.0        2.97   \n",
       "460         sorland     67.67      12.69         7.83      91.0       11.21   \n",
       "461           bluff    -46.60     168.33        22.78      59.0        1.34   \n",
       "\n",
       "     cloudiness  \n",
       "457          75  \n",
       "458          75  \n",
       "459           0  \n",
       "460         100  \n",
       "461         100  "
      ],
      "text/html": "<div>\n<style scoped>\n    .dataframe tbody tr th:only-of-type {\n        vertical-align: middle;\n    }\n\n    .dataframe tbody tr th {\n        vertical-align: top;\n    }\n\n    .dataframe thead th {\n        text-align: right;\n    }\n</style>\n<table border=\"1\" class=\"dataframe\">\n  <thead>\n    <tr style=\"text-align: right;\">\n      <th></th>\n      <th>city</th>\n      <th>latitude</th>\n      <th>longitude</th>\n      <th>temperature</th>\n      <th>humidity</th>\n      <th>wind speed</th>\n      <th>cloudiness</th>\n    </tr>\n  </thead>\n  <tbody>\n    <tr>\n      <th>457</th>\n      <td>saint-philippe</td>\n      <td>-21.36</td>\n      <td>55.77</td>\n      <td>22.45</td>\n      <td>54.0</td>\n      <td>7.20</td>\n      <td>75</td>\n    </tr>\n    <tr>\n      <th>458</th>\n      <td>hobart</td>\n      <td>-42.88</td>\n      <td>147.33</td>\n      <td>12.84</td>\n      <td>82.0</td>\n      <td>1.86</td>\n      <td>75</td>\n    </tr>\n    <tr>\n      <th>459</th>\n      <td>zhaotong</td>\n      <td>27.32</td>\n      <td>103.72</td>\n      <td>16.75</td>\n      <td>52.0</td>\n      <td>2.97</td>\n      <td>0</td>\n    </tr>\n    <tr>\n      <th>460</th>\n      <td>sorland</td>\n      <td>67.67</td>\n      <td>12.69</td>\n      <td>7.83</td>\n      <td>91.0</td>\n      <td>11.21</td>\n      <td>100</td>\n    </tr>\n    <tr>\n      <th>461</th>\n      <td>bluff</td>\n      <td>-46.60</td>\n      <td>168.33</td>\n      <td>22.78</td>\n      <td>59.0</td>\n      <td>1.34</td>\n      <td>100</td>\n    </tr>\n  </tbody>\n</table>\n</div>"
     },
     "metadata": {},
     "execution_count": 42
    }
   ],
   "source": [
    "# Read in weather csv\n",
    "weather_df = pd.read_csv('../WeatherPy/weather.csv')\n",
    "# # Drop na values\n",
    "# weather_df.dropna(inplace = True) \n",
    "# Drop unnamed column\n",
    "weather_df.drop([\"Unnamed: 0\"], axis=1,inplace=True)\n",
    "weather_df.tail()"
   ]
  },
  {
   "cell_type": "code",
   "execution_count": 43,
   "metadata": {},
   "outputs": [],
   "source": [
    "# Store latitude and longitude in locations\n",
    "locations = weather_df[[\"latitude\",\"longitude\"]]\n",
    "\n",
    "# Fill NaN values and convert to float\n",
    "humidity = weather_df[\"humidity\"].astype(float)"
   ]
  },
  {
   "cell_type": "code",
   "execution_count": 45,
   "metadata": {},
   "outputs": [
    {
     "output_type": "display_data",
     "data": {
      "text/plain": "Figure(layout=FigureLayout(height='420px'))",
      "application/vnd.jupyter.widget-view+json": {
       "version_major": 2,
       "version_minor": 0,
       "model_id": "05aee02dc6df4e6fa9f366991c52dc88"
      }
     },
     "metadata": {}
    }
   ],
   "source": [
    "# Plot Heatmap\n",
    "fig = gmaps.figure()\n",
    "\n",
    "# Create heat layer\n",
    "heat_layer = gmaps.heatmap_layer(locations, weights=humidity, \n",
    "                                 dissipating=False, max_intensity=100,\n",
    "                                 point_radius=5)\n",
    "\n",
    "# Add layer\n",
    "fig.add_layer(heat_layer)\n",
    "\n",
    "# Display figure\n",
    "fig"
   ]
  },
  {
   "cell_type": "code",
   "execution_count": 62,
   "metadata": {},
   "outputs": [
    {
     "output_type": "execute_result",
     "data": {
      "text/plain": [
       "              city  latitude  longitude  temperature  humidity  wind speed  \\\n",
       "7       coahuayana     18.73    -103.68        23.17      86.0        1.18   \n",
       "28       inhambane    -23.86      35.38        24.53      62.0        3.68   \n",
       "50    batemans bay    -35.72     150.18        26.36      38.0        0.89   \n",
       "63        flinders    -34.58     150.86        25.33      65.0        2.24   \n",
       "130      immokalee     26.42     -81.42        23.04      94.0        1.50   \n",
       "142     vila velha    -20.33     -40.29        24.70      88.0        0.50   \n",
       "162         makaha     21.47    -158.22        25.53      73.0        2.60   \n",
       "234        zhangye     38.93     100.45        22.04      17.0        4.06   \n",
       "279  makakilo city     21.35    -158.09        25.93      61.0        2.10   \n",
       "320        vilhena    -12.74     -60.15        22.17      82.0        1.56   \n",
       "336        codajas     -3.84     -62.06        24.09      94.0        0.91   \n",
       "391       savelugu      9.62      -0.83        24.46      34.0        1.56   \n",
       "444        salalah     17.02      54.09        24.00      47.0        1.50   \n",
       "\n",
       "     cloudiness  \n",
       "7             1  \n",
       "28            1  \n",
       "50            0  \n",
       "63            0  \n",
       "130           1  \n",
       "142           0  \n",
       "162           1  \n",
       "234           1  \n",
       "279           1  \n",
       "320           3  \n",
       "336          12  \n",
       "391           2  \n",
       "444           0  "
      ],
      "text/html": "<div>\n<style scoped>\n    .dataframe tbody tr th:only-of-type {\n        vertical-align: middle;\n    }\n\n    .dataframe tbody tr th {\n        vertical-align: top;\n    }\n\n    .dataframe thead th {\n        text-align: right;\n    }\n</style>\n<table border=\"1\" class=\"dataframe\">\n  <thead>\n    <tr style=\"text-align: right;\">\n      <th></th>\n      <th>city</th>\n      <th>latitude</th>\n      <th>longitude</th>\n      <th>temperature</th>\n      <th>humidity</th>\n      <th>wind speed</th>\n      <th>cloudiness</th>\n    </tr>\n  </thead>\n  <tbody>\n    <tr>\n      <th>7</th>\n      <td>coahuayana</td>\n      <td>18.73</td>\n      <td>-103.68</td>\n      <td>23.17</td>\n      <td>86.0</td>\n      <td>1.18</td>\n      <td>1</td>\n    </tr>\n    <tr>\n      <th>28</th>\n      <td>inhambane</td>\n      <td>-23.86</td>\n      <td>35.38</td>\n      <td>24.53</td>\n      <td>62.0</td>\n      <td>3.68</td>\n      <td>1</td>\n    </tr>\n    <tr>\n      <th>50</th>\n      <td>batemans bay</td>\n      <td>-35.72</td>\n      <td>150.18</td>\n      <td>26.36</td>\n      <td>38.0</td>\n      <td>0.89</td>\n      <td>0</td>\n    </tr>\n    <tr>\n      <th>63</th>\n      <td>flinders</td>\n      <td>-34.58</td>\n      <td>150.86</td>\n      <td>25.33</td>\n      <td>65.0</td>\n      <td>2.24</td>\n      <td>0</td>\n    </tr>\n    <tr>\n      <th>130</th>\n      <td>immokalee</td>\n      <td>26.42</td>\n      <td>-81.42</td>\n      <td>23.04</td>\n      <td>94.0</td>\n      <td>1.50</td>\n      <td>1</td>\n    </tr>\n    <tr>\n      <th>142</th>\n      <td>vila velha</td>\n      <td>-20.33</td>\n      <td>-40.29</td>\n      <td>24.70</td>\n      <td>88.0</td>\n      <td>0.50</td>\n      <td>0</td>\n    </tr>\n    <tr>\n      <th>162</th>\n      <td>makaha</td>\n      <td>21.47</td>\n      <td>-158.22</td>\n      <td>25.53</td>\n      <td>73.0</td>\n      <td>2.60</td>\n      <td>1</td>\n    </tr>\n    <tr>\n      <th>234</th>\n      <td>zhangye</td>\n      <td>38.93</td>\n      <td>100.45</td>\n      <td>22.04</td>\n      <td>17.0</td>\n      <td>4.06</td>\n      <td>1</td>\n    </tr>\n    <tr>\n      <th>279</th>\n      <td>makakilo city</td>\n      <td>21.35</td>\n      <td>-158.09</td>\n      <td>25.93</td>\n      <td>61.0</td>\n      <td>2.10</td>\n      <td>1</td>\n    </tr>\n    <tr>\n      <th>320</th>\n      <td>vilhena</td>\n      <td>-12.74</td>\n      <td>-60.15</td>\n      <td>22.17</td>\n      <td>82.0</td>\n      <td>1.56</td>\n      <td>3</td>\n    </tr>\n    <tr>\n      <th>336</th>\n      <td>codajas</td>\n      <td>-3.84</td>\n      <td>-62.06</td>\n      <td>24.09</td>\n      <td>94.0</td>\n      <td>0.91</td>\n      <td>12</td>\n    </tr>\n    <tr>\n      <th>391</th>\n      <td>savelugu</td>\n      <td>9.62</td>\n      <td>-0.83</td>\n      <td>24.46</td>\n      <td>34.0</td>\n      <td>1.56</td>\n      <td>2</td>\n    </tr>\n    <tr>\n      <th>444</th>\n      <td>salalah</td>\n      <td>17.02</td>\n      <td>54.09</td>\n      <td>24.00</td>\n      <td>47.0</td>\n      <td>1.50</td>\n      <td>0</td>\n    </tr>\n  </tbody>\n</table>\n</div>"
     },
     "metadata": {},
     "execution_count": 62
    }
   ],
   "source": [
    "# Narrow down weather df based on ideal weather conditions:\n",
    "# Temp < 30; > 22\n",
    "# Wind speed < 5\n",
    "# Cloudiness < 15\n",
    "\n",
    "ideal_weather_df = weather_df.loc[\n",
    "    (weather_df[\"temperature\"]>22)\n",
    "    & (weather_df[\"temperature\"]<30)\n",
    "    & (weather_df[\"wind speed\"]<5)\n",
    "    & (weather_df[\"cloudiness\"]<15)\n",
    "]\n",
    "\n",
    "ideal_weather_df\n"
   ]
  },
  {
   "cell_type": "code",
   "execution_count": 64,
   "metadata": {},
   "outputs": [
    {
     "output_type": "execute_result",
     "data": {
      "text/plain": [
       "             city  latitude  longitude  temperature  humidity  wind speed  \\\n",
       "7      coahuayana     18.73    -103.68        23.17      86.0        1.18   \n",
       "28      inhambane    -23.86      35.38        24.53      62.0        3.68   \n",
       "50   batemans bay    -35.72     150.18        26.36      38.0        0.89   \n",
       "63       flinders    -34.58     150.86        25.33      65.0        2.24   \n",
       "130     immokalee     26.42     -81.42        23.04      94.0        1.50   \n",
       "\n",
       "     cloudiness Hotel Name City Country  \n",
       "7             1                          \n",
       "28            1                          \n",
       "50            0                          \n",
       "63            0                          \n",
       "130           1                          "
      ],
      "text/html": "<div>\n<style scoped>\n    .dataframe tbody tr th:only-of-type {\n        vertical-align: middle;\n    }\n\n    .dataframe tbody tr th {\n        vertical-align: top;\n    }\n\n    .dataframe thead th {\n        text-align: right;\n    }\n</style>\n<table border=\"1\" class=\"dataframe\">\n  <thead>\n    <tr style=\"text-align: right;\">\n      <th></th>\n      <th>city</th>\n      <th>latitude</th>\n      <th>longitude</th>\n      <th>temperature</th>\n      <th>humidity</th>\n      <th>wind speed</th>\n      <th>cloudiness</th>\n      <th>Hotel Name</th>\n      <th>City</th>\n      <th>Country</th>\n    </tr>\n  </thead>\n  <tbody>\n    <tr>\n      <th>7</th>\n      <td>coahuayana</td>\n      <td>18.73</td>\n      <td>-103.68</td>\n      <td>23.17</td>\n      <td>86.0</td>\n      <td>1.18</td>\n      <td>1</td>\n      <td></td>\n      <td></td>\n      <td></td>\n    </tr>\n    <tr>\n      <th>28</th>\n      <td>inhambane</td>\n      <td>-23.86</td>\n      <td>35.38</td>\n      <td>24.53</td>\n      <td>62.0</td>\n      <td>3.68</td>\n      <td>1</td>\n      <td></td>\n      <td></td>\n      <td></td>\n    </tr>\n    <tr>\n      <th>50</th>\n      <td>batemans bay</td>\n      <td>-35.72</td>\n      <td>150.18</td>\n      <td>26.36</td>\n      <td>38.0</td>\n      <td>0.89</td>\n      <td>0</td>\n      <td></td>\n      <td></td>\n      <td></td>\n    </tr>\n    <tr>\n      <th>63</th>\n      <td>flinders</td>\n      <td>-34.58</td>\n      <td>150.86</td>\n      <td>25.33</td>\n      <td>65.0</td>\n      <td>2.24</td>\n      <td>0</td>\n      <td></td>\n      <td></td>\n      <td></td>\n    </tr>\n    <tr>\n      <th>130</th>\n      <td>immokalee</td>\n      <td>26.42</td>\n      <td>-81.42</td>\n      <td>23.04</td>\n      <td>94.0</td>\n      <td>1.50</td>\n      <td>1</td>\n      <td></td>\n      <td></td>\n      <td></td>\n    </tr>\n  </tbody>\n</table>\n</div>"
     },
     "metadata": {},
     "execution_count": 64
    }
   ],
   "source": [
    "# Set up additional columns to hold information\n",
    "ideal_weather_df['Hotel Name'] = \"\"\n",
    "ideal_weather_df['City'] = \"\"\n",
    "ideal_weather_df['Country'] = \"\"\n",
    "\n",
    "ideal_weather_df.head()"
   ]
  },
  {
   "cell_type": "code",
   "execution_count": 81,
   "metadata": {},
   "outputs": [
    {
     "output_type": "stream",
     "name": "stdout",
     "text": [
      "Closest hotel is The Old Swan Barracks Backpacker Hostel Perth.\n"
     ]
    }
   ],
   "source": [
    "# Test retrival of hotel from Google Places API\n",
    "\n",
    "# Find the closest hotel to coordinates\n",
    "base_url = \"https://maps.googleapis.com/maps/api/place/nearbysearch/json\"\n",
    "params = {\n",
    "    \"location\": \"-31.94889169999999,115.8622556\",  # The Old Swan Barracks Backpacker Hostel Perth,\n",
    "    \"rankby\": \"distance\",\n",
    "    \"type\": \"lodging\",\n",
    "    \"key\": gkey,\n",
    "}\n",
    "\n",
    "response = requests.get(base_url, params=params).json()\n",
    "# print the response URL, avoid doing for public GitHub repos in order to avoid exposing key\n",
    "# print(response.url)\n",
    "\n",
    "results = response['results']\n",
    "\n",
    "print(f\"Closest hotel is {results[0]['name']}.\")\n"
   ]
  },
  {
   "cell_type": "code",
   "execution_count": 84,
   "metadata": {},
   "outputs": [
    {
     "output_type": "stream",
     "name": "stdout",
     "text": [
      "Retrieving Results for Index 7: 18.73,-103.68.\n",
      "Closest hotel is Hotel Los Arcos.\n",
      "------------\n",
      "Retrieving Results for Index 28: -23.86,35.38.\n",
      "Closest hotel is Hotel Casa Do Capitão.\n",
      "------------\n",
      "Retrieving Results for Index 50: -35.72,150.18.\n",
      "Closest hotel is Shady Willows Caravan Park.\n",
      "------------\n",
      "Retrieving Results for Index 63: -34.58,150.86.\n",
      "Closest hotel is Shellharbour Village Escape.\n",
      "------------\n",
      "Retrieving Results for Index 130: 26.42,-81.42.\n",
      "Closest hotel is Budget Inn.\n",
      "------------\n",
      "Retrieving Results for Index 142: -20.33,-40.29.\n",
      "Closest hotel is Hotel Prainha.\n",
      "------------\n",
      "Retrieving Results for Index 162: 21.47,-158.22.\n",
      "Closest hotel is The Bungalows Hawaii.\n",
      "------------\n",
      "Retrieving Results for Index 234: 38.93,100.45.\n",
      "Closest hotel is 县府街名烟名酒店.\n",
      "------------\n",
      "Retrieving Results for Index 279: 21.35,-158.09.\n",
      "Closest hotel is エレン.\n",
      "------------\n",
      "Retrieving Results for Index 320: -12.74,-60.15.\n",
      "Closest hotel is Hotel Pirâmide.\n",
      "------------\n",
      "Retrieving Results for Index 336: -3.84,-62.06.\n",
      "Closest hotel is Hotel Tamires.\n",
      "------------\n",
      "Retrieving Results for Index 391: 9.62,-0.83.\n",
      "Closest hotel is Yoo Naa's Palace.\n",
      "------------\n",
      "Retrieving Results for Index 444: 17.02,54.09.\n",
      "Closest hotel is Al Sahwa New Building.\n",
      "------------\n"
     ]
    }
   ],
   "source": [
    "# Retrieve all hotels\n",
    "\n",
    "# Find the closest hotel to coordinates\n",
    "base_url = \"https://maps.googleapis.com/maps/api/place/nearbysearch/json\"\n",
    "params = {\n",
    "    \"location\": \"-31.94889169999999,115.8622556\",  # The Old Swan Barracks Backpacker Hostel Perth,\n",
    "    \"rankby\": \"distance\",\n",
    "    \"type\": \"lodging\",\n",
    "    \"key\": gkey,\n",
    "}\n",
    "\n",
    "# Use iterrows to iterate through pandas dataframe\n",
    "for index, row in ideal_weather_df.iterrows():\n",
    "\n",
    "    # Get lat and long from df\n",
    "    latitude = row['latitude']\n",
    "    longitude = row['longitude']\n",
    "\n",
    "    # Add keyword to params dict\n",
    "    params['location'] = f\"{latitude},{longitude}\"\n",
    "\n",
    "    # Assemble url and make API request\n",
    "    print(f\"Retrieving Results for Index {index}: {latitude},{longitude}.\")\n",
    "    response = requests.get(base_url, params=params).json()\n",
    "\n",
    "    # Extract results\n",
    "    results = response['results']\n",
    "\n",
    "    try:\n",
    "        print(f\"Closest hotel is {results[0]['name']}.\")\n",
    "        \n",
    "        ideal_weather_df.loc[index, 'Hotel Name'] = results[0]['name']\n",
    "        ideal_weather_df.loc[index, 'City'] = results[0]['vicinity']\n",
    "        # ideal_weather_df.loc[index, 'Country'] = results[0]['price_level']\n",
    "        \n",
    "    except (KeyError, IndexError):\n",
    "        print(\"Missing field/result... skipping.\")\n",
    "        \n",
    "    print(\"------------\")"
   ]
  },
  {
   "cell_type": "code",
   "execution_count": 87,
   "metadata": {},
   "outputs": [],
   "source": [
    "# Add column to df for country\n",
    "ideal_weather_df[\"Country\"] = \"\""
   ]
  },
  {
   "cell_type": "code",
   "execution_count": 90,
   "metadata": {},
   "outputs": [
    {
     "output_type": "stream",
     "name": "stdout",
     "text": [
      "Retrieving Results for Index 7: coahuayana\n",
      "------------\n",
      "Retrieving Results for Index 28: inhambane\n",
      "------------\n",
      "Retrieving Results for Index 50: batemans bay\n",
      "------------\n",
      "Retrieving Results for Index 63: flinders\n",
      "------------\n",
      "Retrieving Results for Index 130: immokalee\n",
      "------------\n",
      "Retrieving Results for Index 142: vila velha\n",
      "------------\n",
      "Retrieving Results for Index 162: makaha\n",
      "------------\n",
      "Retrieving Results for Index 234: zhangye\n",
      "------------\n",
      "Retrieving Results for Index 279: makakilo city\n",
      "------------\n",
      "Retrieving Results for Index 320: vilhena\n",
      "------------\n",
      "Retrieving Results for Index 336: codajas\n",
      "------------\n",
      "Retrieving Results for Index 391: savelugu\n",
      "------------\n",
      "Retrieving Results for Index 444: salalah\n",
      "------------\n"
     ]
    }
   ],
   "source": [
    "# Use Open Weather Map API to retrieve country\n",
    "\n",
    "base_url = \"http://api.openweathermap.org/data/2.5/weather\"\n",
    "params = {\n",
    "    \"q\": \"albany\",\n",
    "    \"appid\": api_key,\n",
    "    \"units\": \"metric\"\n",
    "}\n",
    "\n",
    "# Use iterrows to iterate through pandas dataframe\n",
    "for index, row in ideal_weather_df.iterrows():\n",
    "\n",
    "    # Get city from weather_df\n",
    "    city = row['city']\n",
    "\n",
    "    # Add query to params dict\n",
    "    params['q'] = city\n",
    "\n",
    "    # Assemble url and make API request\n",
    "    print(f\"Retrieving Results for Index {index}: {city}\")\n",
    "\n",
    "    # Extract results\n",
    "    response = requests.get(base_url, params=params).json()\n",
    "    \n",
    "    try:\n",
    "        ideal_weather_df.loc[index, \"Country\"] = response[\"sys\"][\"country\"]\n",
    "     \n",
    "    except (KeyError, IndexError):\n",
    "        print(\"Missing field/result... skipping.\")\n",
    "        \n",
    "    print(\"------------\")"
   ]
  },
  {
   "cell_type": "code",
   "execution_count": 91,
   "metadata": {},
   "outputs": [
    {
     "output_type": "execute_result",
     "data": {
      "text/plain": [
       "             city  latitude  longitude  temperature  humidity  wind speed  \\\n",
       "7      coahuayana     18.73    -103.68        23.17      86.0        1.18   \n",
       "28      inhambane    -23.86      35.38        24.53      62.0        3.68   \n",
       "50   batemans bay    -35.72     150.18        26.36      38.0        0.89   \n",
       "63       flinders    -34.58     150.86        25.33      65.0        2.24   \n",
       "130     immokalee     26.42     -81.42        23.04      94.0        1.50   \n",
       "\n",
       "     cloudiness                   Hotel Name  \\\n",
       "7             1              Hotel Los Arcos   \n",
       "28            1        Hotel Casa Do Capitão   \n",
       "50            0   Shady Willows Caravan Park   \n",
       "63            0  Shellharbour Village Escape   \n",
       "130           1                   Budget Inn   \n",
       "\n",
       "                                    City Country  \n",
       "7          Centro, Coahuayana de Hidalgo      MX  \n",
       "28   Balane 1, Av. Maguiguana, Inhambane      MZ  \n",
       "50            South Street, Batemans Bay      AU  \n",
       "63      9 Robertson Street, Shellharbour      AU  \n",
       "130      504 East Main Street, Immokalee      US  "
      ],
      "text/html": "<div>\n<style scoped>\n    .dataframe tbody tr th:only-of-type {\n        vertical-align: middle;\n    }\n\n    .dataframe tbody tr th {\n        vertical-align: top;\n    }\n\n    .dataframe thead th {\n        text-align: right;\n    }\n</style>\n<table border=\"1\" class=\"dataframe\">\n  <thead>\n    <tr style=\"text-align: right;\">\n      <th></th>\n      <th>city</th>\n      <th>latitude</th>\n      <th>longitude</th>\n      <th>temperature</th>\n      <th>humidity</th>\n      <th>wind speed</th>\n      <th>cloudiness</th>\n      <th>Hotel Name</th>\n      <th>City</th>\n      <th>Country</th>\n    </tr>\n  </thead>\n  <tbody>\n    <tr>\n      <th>7</th>\n      <td>coahuayana</td>\n      <td>18.73</td>\n      <td>-103.68</td>\n      <td>23.17</td>\n      <td>86.0</td>\n      <td>1.18</td>\n      <td>1</td>\n      <td>Hotel Los Arcos</td>\n      <td>Centro, Coahuayana de Hidalgo</td>\n      <td>MX</td>\n    </tr>\n    <tr>\n      <th>28</th>\n      <td>inhambane</td>\n      <td>-23.86</td>\n      <td>35.38</td>\n      <td>24.53</td>\n      <td>62.0</td>\n      <td>3.68</td>\n      <td>1</td>\n      <td>Hotel Casa Do Capitão</td>\n      <td>Balane 1, Av. Maguiguana, Inhambane</td>\n      <td>MZ</td>\n    </tr>\n    <tr>\n      <th>50</th>\n      <td>batemans bay</td>\n      <td>-35.72</td>\n      <td>150.18</td>\n      <td>26.36</td>\n      <td>38.0</td>\n      <td>0.89</td>\n      <td>0</td>\n      <td>Shady Willows Caravan Park</td>\n      <td>South Street, Batemans Bay</td>\n      <td>AU</td>\n    </tr>\n    <tr>\n      <th>63</th>\n      <td>flinders</td>\n      <td>-34.58</td>\n      <td>150.86</td>\n      <td>25.33</td>\n      <td>65.0</td>\n      <td>2.24</td>\n      <td>0</td>\n      <td>Shellharbour Village Escape</td>\n      <td>9 Robertson Street, Shellharbour</td>\n      <td>AU</td>\n    </tr>\n    <tr>\n      <th>130</th>\n      <td>immokalee</td>\n      <td>26.42</td>\n      <td>-81.42</td>\n      <td>23.04</td>\n      <td>94.0</td>\n      <td>1.50</td>\n      <td>1</td>\n      <td>Budget Inn</td>\n      <td>504 East Main Street, Immokalee</td>\n      <td>US</td>\n    </tr>\n  </tbody>\n</table>\n</div>"
     },
     "metadata": {},
     "execution_count": 91
    }
   ],
   "source": [
    "ideal_weather_df.head()\n"
   ]
  },
  {
   "cell_type": "code",
   "execution_count": null,
   "metadata": {},
   "outputs": [],
   "source": []
  }
 ]
}