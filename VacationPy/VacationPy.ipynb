{
 "metadata": {
  "language_info": {
   "codemirror_mode": {
    "name": "ipython",
    "version": 3
   },
   "file_extension": ".py",
   "mimetype": "text/x-python",
   "name": "python",
   "nbconvert_exporter": "python",
   "pygments_lexer": "ipython3",
   "version": "3.7.6-final"
  },
  "orig_nbformat": 2,
  "kernelspec": {
   "name": "python3",
   "display_name": "Python 3"
  }
 },
 "nbformat": 4,
 "nbformat_minor": 2,
 "cells": [
  {
   "cell_type": "code",
   "execution_count": null,
   "metadata": {},
   "outputs": [],
   "source": [
    "# Import dependencies\n",
    "\n",
    "import gmaps\n",
    "import pandas as pd\n",
    "import numpy as np\n",
    "import requests\n",
    "import json\n",
    "\n",
    "# Google developer API key\n",
    "from config import gkey\n",
    "\n",
    "# Configure gmaps\n",
    "gmaps.configure(api_key=gkey)\n",
    "\n",
    "# Import OpenWeather API key\n",
    "from config import api_key"
   ]
  },
  {
   "cell_type": "code",
   "execution_count": null,
   "metadata": {},
   "outputs": [],
   "source": [
    "# Read in weather csv\n",
    "weather_df = pd.read_csv('../WeatherPy/weather.csv')\n",
    "# # Drop na values\n",
    "# weather_df.dropna(inplace = True) \n",
    "# Drop unnamed column\n",
    "weather_df.drop([\"Unnamed: 0\"], axis=1,inplace=True)\n",
    "weather_df.tail()"
   ]
  },
  {
   "cell_type": "code",
   "execution_count": null,
   "metadata": {},
   "outputs": [],
   "source": [
    "# Store latitude and longitude in locations\n",
    "locations = weather_df[[\"latitude\",\"longitude\"]]\n",
    "\n",
    "# Fill NaN values and convert to float\n",
    "humidity = weather_df[\"humidity\"].astype(float)"
   ]
  },
  {
   "cell_type": "code",
   "execution_count": null,
   "metadata": {},
   "outputs": [],
   "source": [
    "# Plot Heatmap\n",
    "fig = gmaps.figure()\n",
    "\n",
    "# Create heat layer\n",
    "heat_layer = gmaps.heatmap_layer(locations, weights=humidity, \n",
    "                                 dissipating=False, max_intensity=100,\n",
    "                                 point_radius=5)\n",
    "\n",
    "# Add layer\n",
    "fig.add_layer(heat_layer)\n",
    "\n",
    "# Display figure\n",
    "fig"
   ]
  },
  {
   "cell_type": "code",
   "execution_count": null,
   "metadata": {},
   "outputs": [],
   "source": [
    "# Narrow down weather df based on ideal weather conditions:\n",
    "# Temp < 30; > 22\n",
    "# Wind speed < 5\n",
    "# Cloudiness < 15\n",
    "\n",
    "ideal_weather_df = weather_df.loc[\n",
    "    (weather_df[\"temperature\"]>22)\n",
    "    & (weather_df[\"temperature\"]<30)\n",
    "    & (weather_df[\"wind speed\"]<5)\n",
    "    & (weather_df[\"cloudiness\"]<15)\n",
    "]\n",
    "\n",
    "ideal_weather_df"
   ]
  },
  {
   "cell_type": "code",
   "execution_count": null,
   "metadata": {},
   "outputs": [],
   "source": [
    "# Set up additional columns to hold information\n",
    "ideal_weather_df['Hotel Name'] = \"\"\n",
    "ideal_weather_df['City'] = \"\"\n",
    "ideal_weather_df['Country'] = \"\"\n",
    "\n",
    "ideal_weather_df.head()"
   ]
  },
  {
   "cell_type": "code",
   "execution_count": null,
   "metadata": {},
   "outputs": [],
   "source": [
    "# Test retrival of hotel from Google Places API\n",
    "\n",
    "# Find the closest hotel to coordinates\n",
    "base_url = \"https://maps.googleapis.com/maps/api/place/nearbysearch/json\"\n",
    "params = {\n",
    "    \"location\": \"-31.94889169999999,115.8622556\",  # The Old Swan Barracks Backpacker Hostel Perth,\n",
    "    \"rankby\": \"distance\",\n",
    "    \"type\": \"lodging\",\n",
    "    \"key\": gkey,\n",
    "}\n",
    "\n",
    "response = requests.get(base_url, params=params).json()\n",
    "# print the response URL, avoid doing for public GitHub repos in order to avoid exposing key\n",
    "# print(response.url)\n",
    "\n",
    "results = response['results']\n",
    "\n",
    "print(f\"Closest hotel is {results[0]['name']}.\")\n"
   ]
  },
  {
   "cell_type": "code",
   "execution_count": null,
   "metadata": {},
   "outputs": [],
   "source": [
    "# Retrieve all hotels\n",
    "\n",
    "# Find the closest hotel to coordinates\n",
    "base_url = \"https://maps.googleapis.com/maps/api/place/nearbysearch/json\"\n",
    "params = {\n",
    "    \"location\": \"-31.94889169999999,115.8622556\",  # The Old Swan Barracks Backpacker Hostel Perth,\n",
    "    \"rankby\": \"distance\",\n",
    "    \"type\": \"lodging\",\n",
    "    \"key\": gkey,\n",
    "}\n",
    "\n",
    "# Use iterrows to iterate through pandas dataframe\n",
    "for index, row in ideal_weather_df.iterrows():\n",
    "\n",
    "    # Get lat and long from df\n",
    "    latitude = row['latitude']\n",
    "    longitude = row['longitude']\n",
    "\n",
    "    # Add keyword to params dict\n",
    "    params['location'] = f\"{latitude},{longitude}\"\n",
    "\n",
    "    # Assemble url and make API request\n",
    "    print(f\"Retrieving Results for Index {index}: {latitude},{longitude}.\")\n",
    "    response = requests.get(base_url, params=params).json()\n",
    "\n",
    "    # Extract results\n",
    "    results = response['results']\n",
    "\n",
    "    try:\n",
    "        print(f\"Closest hotel is {results[0]['name']}.\")\n",
    "        \n",
    "        ideal_weather_df.loc[index, 'Hotel Name'] = results[0]['name']\n",
    "        ideal_weather_df.loc[index, 'City'] = results[0]['vicinity']\n",
    "        # ideal_weather_df.loc[index, 'Country'] = results[0]['price_level']\n",
    "        \n",
    "    except (KeyError, IndexError):\n",
    "        print(\"Missing field/result... skipping.\")\n",
    "        \n",
    "    print(\"------------\")"
   ]
  },
  {
   "cell_type": "code",
   "execution_count": null,
   "metadata": {},
   "outputs": [],
   "source": [
    "# Add column to df for country\n",
    "ideal_weather_df[\"Country\"] = \"\""
   ]
  },
  {
   "cell_type": "code",
   "execution_count": null,
   "metadata": {},
   "outputs": [],
   "source": [
    "# Use Open Weather Map API to retrieve country\n",
    "\n",
    "base_url = \"http://api.openweathermap.org/data/2.5/weather\"\n",
    "params = {\n",
    "    \"q\": \"albany\",\n",
    "    \"appid\": api_key,\n",
    "    \"units\": \"metric\"\n",
    "}\n",
    "\n",
    "# Use iterrows to iterate through pandas dataframe\n",
    "for index, row in ideal_weather_df.iterrows():\n",
    "\n",
    "    # Get city from weather_df\n",
    "    city = row['city']\n",
    "\n",
    "    # Add query to params dict\n",
    "    params['q'] = city\n",
    "\n",
    "    # Assemble url and make API request\n",
    "    print(f\"Retrieving Results for Index {index}: {city}\")\n",
    "\n",
    "    # Extract results\n",
    "    response = requests.get(base_url, params=params).json()\n",
    "    \n",
    "    try:\n",
    "        ideal_weather_df.loc[index, \"Country\"] = response[\"sys\"][\"country\"]\n",
    "     \n",
    "    except (KeyError, IndexError):\n",
    "        print(\"Missing field/result... skipping.\")\n",
    "        \n",
    "    print(\"------------\")"
   ]
  },
  {
   "cell_type": "code",
   "execution_count": null,
   "metadata": {},
   "outputs": [],
   "source": [
    "# Check df\n",
    "ideal_weather_df.head()"
   ]
  },
  {
   "cell_type": "code",
   "execution_count": null,
   "metadata": {},
   "outputs": [],
   "source": [
    "# Select coordinates for map markers\n",
    "coordinates = list(zip(ideal_weather_df.latitude, ideal_weather_df.longitude))\n",
    "# Assign the marker layer to a variable\n",
    "markers = gmaps.marker_layer(coordinates)\n",
    "# Add the layer to the map\n",
    "fig.add_layer(markers)\n",
    "fig"
   ]
  },
  {
   "cell_type": "code",
   "execution_count": null,
   "metadata": {},
   "outputs": [],
   "source": [
    "# NOTE: Do not change any of the code in this cell\n",
    "\n",
    "# Using the template add the hotel marks to the heatmap\n",
    "info_box_template = \"\"\"\n",
    "<dl>\n",
    "<dt>Name</dt><dd>{Hotel Name}</dd>\n",
    "<dt>City</dt><dd>{City}</dd>\n",
    "<dt>Country</dt><dd>{Country}</dd>\n",
    "</dl>\n",
    "\"\"\"\n",
    "# Store the DataFrame Row\n",
    "# NOTE: be sure to update with your DataFrame name\n",
    "hotel_info = [info_box_template.format(**row) for index, row in ideal_weather_df.iterrows()]\n",
    "locations = ideal_weather_df[[\"latitude\", \"longitude\"]]"
   ]
  },
  {
   "cell_type": "code",
   "execution_count": null,
   "metadata": {},
   "outputs": [],
   "source": [
    "# Add markers, info boxes and heat map\n",
    "markers = gmaps.marker_layer(locations,info_box_template,\n",
    "    info_box_content=hotel_info)\n",
    "fig.add_layer(markers)\n",
    "fig.add_layer(heat_layer)\n",
    "fig"
   ]
  }
 ]
}